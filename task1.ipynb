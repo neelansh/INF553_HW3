{
 "cells": [
  {
   "cell_type": "code",
   "execution_count": 1,
   "metadata": {},
   "outputs": [],
   "source": [
    "import os\n",
    "import sys\n",
    "from pyspark import SparkContext, SparkConf\n",
    "import json\n",
    "import itertools\n",
    "import math\n",
    "import numpy as np\n",
    "import time"
   ]
  },
  {
   "cell_type": "code",
   "execution_count": 2,
   "metadata": {},
   "outputs": [],
   "source": [
    "appName = 'assignment3'\n",
    "master = 'local[*]'\n",
    "conf = SparkConf().setAppName(appName).setMaster(master)\n",
    "# conf = SparkConf().setAll([('spark.executor.memory', '8g'), ('spark.executor.cores', '3'), ('spark.cores.max', '3'), ('spark.driver.memory','8g')])\n",
    "sc = SparkContext(conf=conf)\n",
    "sc.setLogLevel(\"INFO\")"
   ]
  },
  {
   "cell_type": "code",
   "execution_count": 3,
   "metadata": {},
   "outputs": [
    {
     "data": {
      "text/html": [
       "\n",
       "        <div>\n",
       "            <p><b>SparkContext</b></p>\n",
       "\n",
       "            <p><a href=\"http://ckg03:4040\">Spark UI</a></p>\n",
       "\n",
       "            <dl>\n",
       "              <dt>Version</dt>\n",
       "                <dd><code>v2.4.4</code></dd>\n",
       "              <dt>Master</dt>\n",
       "                <dd><code>local[*]</code></dd>\n",
       "              <dt>AppName</dt>\n",
       "                <dd><code>assignment2</code></dd>\n",
       "            </dl>\n",
       "        </div>\n",
       "        "
      ],
      "text/plain": [
       "<SparkContext master=local[*] appName=assignment2>"
      ]
     },
     "execution_count": 3,
     "metadata": {},
     "output_type": "execute_result"
    }
   ],
   "source": [
    "sc"
   ]
  },
  {
   "cell_type": "code",
   "execution_count": 4,
   "metadata": {},
   "outputs": [],
   "source": [
    "def read_csv_line(line):\n",
    "    line = line.split(',')\n",
    "    return (line[0].strip(), line[1].strip(), line[2].strip())\n",
    "\n",
    "def read_business(data_path):\n",
    "    rdd = sc.textFile(data_path)\n",
    "    header = rdd.first()\n",
    "    rdd = rdd.filter(lambda x: x != header).map(read_csv_line)\n",
    "    unique_users = rdd.map(lambda x: x[0]).distinct().collect()    \n",
    "    userid_index = {}\n",
    "    for i, uid in enumerate(unique_users):\n",
    "        userid_index[uid] = i\n",
    "    \n",
    "    business_users = rdd.map(lambda x: (x[1], userid_index[x[0]])).groupByKey().map(lambda x: (x[0], list(x[1])))\n",
    "    \n",
    "    return business_users"
   ]
  },
  {
   "cell_type": "code",
   "execution_count": 36,
   "metadata": {},
   "outputs": [],
   "source": [
    "out = read_business('./data/yelp_train.csv').take(5)"
   ]
  },
  {
   "cell_type": "code",
   "execution_count": 37,
   "metadata": {},
   "outputs": [
    {
     "data": {
      "text/plain": [
       "[('3MntE_HWbNNoyiLGxywjYA', [5628, 791, 722, 7074, 2988]),\n",
       " ('YXohNvMTCmGhFMSQsDZq1g',\n",
       "  [2,\n",
       "   25,\n",
       "   6283,\n",
       "   1514,\n",
       "   7139,\n",
       "   2350,\n",
       "   8823,\n",
       "   3339,\n",
       "   5723,\n",
       "   282,\n",
       "   9706,\n",
       "   7950,\n",
       "   10051,\n",
       "   3200,\n",
       "   975,\n",
       "   2834,\n",
       "   2841,\n",
       "   1069,\n",
       "   6774,\n",
       "   5104,\n",
       "   490,\n",
       "   1391,\n",
       "   4588,\n",
       "   2435,\n",
       "   7577,\n",
       "   2187,\n",
       "   1075,\n",
       "   508,\n",
       "   4442,\n",
       "   9550,\n",
       "   9,\n",
       "   3472,\n",
       "   587,\n",
       "   3495,\n",
       "   3153,\n",
       "   5645,\n",
       "   8596,\n",
       "   7783,\n",
       "   3848,\n",
       "   9375,\n",
       "   51,\n",
       "   7047,\n",
       "   1843,\n",
       "   3734,\n",
       "   601,\n",
       "   153,\n",
       "   1279,\n",
       "   303,\n",
       "   265,\n",
       "   910,\n",
       "   5647,\n",
       "   1794,\n",
       "   11212,\n",
       "   8899,\n",
       "   3820,\n",
       "   424,\n",
       "   10752,\n",
       "   6276,\n",
       "   643,\n",
       "   1232,\n",
       "   437,\n",
       "   3127,\n",
       "   1587,\n",
       "   10390,\n",
       "   6224,\n",
       "   756,\n",
       "   7092,\n",
       "   3888,\n",
       "   1669,\n",
       "   6425,\n",
       "   9438,\n",
       "   7342,\n",
       "   4747,\n",
       "   1660,\n",
       "   3390,\n",
       "   7061,\n",
       "   6072,\n",
       "   8736,\n",
       "   1431,\n",
       "   1735,\n",
       "   6523,\n",
       "   2536,\n",
       "   5740,\n",
       "   2332,\n",
       "   6615,\n",
       "   1390,\n",
       "   1050,\n",
       "   6477,\n",
       "   7153,\n",
       "   1137,\n",
       "   6501,\n",
       "   308,\n",
       "   10472,\n",
       "   10882,\n",
       "   4,\n",
       "   8827,\n",
       "   2824,\n",
       "   3666,\n",
       "   10730,\n",
       "   8564,\n",
       "   8029,\n",
       "   2936,\n",
       "   5948,\n",
       "   3171,\n",
       "   7892,\n",
       "   1944,\n",
       "   403,\n",
       "   2179,\n",
       "   3694,\n",
       "   373,\n",
       "   7703,\n",
       "   5737,\n",
       "   3255,\n",
       "   5286,\n",
       "   3559,\n",
       "   2963,\n",
       "   9919,\n",
       "   8328,\n",
       "   11060,\n",
       "   7564,\n",
       "   4602,\n",
       "   1116,\n",
       "   3733,\n",
       "   6894,\n",
       "   5247,\n",
       "   6327,\n",
       "   2679,\n",
       "   3374,\n",
       "   6460,\n",
       "   8550,\n",
       "   544,\n",
       "   6443,\n",
       "   8927,\n",
       "   345,\n",
       "   10243,\n",
       "   1698,\n",
       "   512,\n",
       "   4374,\n",
       "   7148,\n",
       "   3649,\n",
       "   6314,\n",
       "   5932,\n",
       "   4763,\n",
       "   646,\n",
       "   8558,\n",
       "   5940,\n",
       "   7903,\n",
       "   6458,\n",
       "   1293,\n",
       "   1751,\n",
       "   3131,\n",
       "   2438,\n",
       "   1292,\n",
       "   2568,\n",
       "   5255,\n",
       "   4733,\n",
       "   10035,\n",
       "   2325,\n",
       "   5709,\n",
       "   5712,\n",
       "   3533]),\n",
       " ('XO2hZb0xC8jTexSHG4SxFg',\n",
       "  [5630,\n",
       "   7144,\n",
       "   7588,\n",
       "   227,\n",
       "   1048,\n",
       "   8145,\n",
       "   11094,\n",
       "   2734,\n",
       "   1274,\n",
       "   7555,\n",
       "   7413,\n",
       "   9885,\n",
       "   7907,\n",
       "   1887,\n",
       "   5242,\n",
       "   6491,\n",
       "   706,\n",
       "   7761,\n",
       "   2362,\n",
       "   7896,\n",
       "   1657,\n",
       "   1658,\n",
       "   6186,\n",
       "   8496,\n",
       "   6694,\n",
       "   6490,\n",
       "   6576,\n",
       "   7596,\n",
       "   8636,\n",
       "   1587,\n",
       "   1561,\n",
       "   8406,\n",
       "   6973,\n",
       "   3091,\n",
       "   1149,\n",
       "   1465,\n",
       "   6793,\n",
       "   10449,\n",
       "   8506,\n",
       "   621,\n",
       "   2197,\n",
       "   2768,\n",
       "   112,\n",
       "   928,\n",
       "   1150,\n",
       "   8859,\n",
       "   471,\n",
       "   4481,\n",
       "   8603,\n",
       "   5947,\n",
       "   449,\n",
       "   11010])]"
      ]
     },
     "execution_count": 37,
     "metadata": {},
     "output_type": "execute_result"
    }
   ],
   "source": [
    "out[:3]"
   ]
  },
  {
   "cell_type": "code",
   "execution_count": 14,
   "metadata": {
    "scrolled": true
   },
   "outputs": [],
   "source": [
    "# Total number of users 11270\n",
    "p = 13591\n",
    "m = 64\n",
    "number_of_hashes = 64\n",
    "a = np.random.randint(1, high=p, size = number_of_hashes)\n",
    "b = np.random.randint(0, high=p, size = number_of_hashes)\n",
    "\n",
    "def minhash(vector, a, b, p, m):\n",
    "    vector = np.array(vector)\n",
    "    return list(np.min((a.reshape(1, a.shape[0]) * vector.reshape(vector.shape[0], 1) + b) %p %m, axis=0))"
   ]
  },
  {
   "cell_type": "code",
   "execution_count": 21,
   "metadata": {},
   "outputs": [
    {
     "name": "stdout",
     "output_type": "stream",
     "text": [
      "0.00021839141845703125\n"
     ]
    }
   ],
   "source": [
    "rdd = read_business('./data/yelp_train.csv')\n",
    "st = time.time()\n",
    "business_sig = rdd.map(lambda x: (x[0], minhash(x[1], a, b, p, m)))\n",
    "print(time.time() - st)"
   ]
  },
  {
   "cell_type": "code",
   "execution_count": 34,
   "metadata": {},
   "outputs": [],
   "source": [
    "from itertools import combinations\n",
    "\n",
    "def hash_bands(x):\n",
    "    doc_id, sig = x\n",
    "    b = 16\n",
    "    r = 4\n",
    "    output = []\n",
    "    for i in range(0, b):\n",
    "        output.append(((i, hash(frozenset(sig[r*i:(i+1)*r]))), doc_id))\n",
    "    return output\n",
    "\n",
    "\n",
    "def jaccard_sim(x, y):\n",
    "    x = set(x)\n",
    "    y = set(y)\n",
    "    return len(x.intersection(y)) / len(x.union(y))\n",
    "\n",
    "\n",
    "def index_signatures(signatures):\n",
    "    index = {}\n",
    "    for x, y in signatures:\n",
    "        index[x] = y\n",
    "        \n",
    "    return index\n",
    "\n",
    "def find_similarity(candidate, index):\n",
    "    bucket = candidate[1]\n",
    "    output = []\n",
    "    for candidate1, candidate2 in combinations(bucket, 2):\n",
    "        sim = jaccard_sim(index[candidate1], index[candidate2])\n",
    "        if(sim >= 0.5):\n",
    "            output.append((candidate1, candidate2, sim))\n",
    "            \n",
    "    return output\n",
    "\n",
    "\n",
    "rdd = read_business('./data/yelp_train.csv')\n",
    "signatures = rdd.collect()\n",
    "index = index_signatures(signatures)\n",
    "business_sig = rdd.map(lambda x: (x[0], minhash(x[1], a, b, p, m)))\n",
    "candidates = business_sig.flatMap(hash_bands).groupByKey().map(lambda x: (x[0], list(x[1]))).filter(lambda x: len(x[1]) > 1)\n",
    "similar_pairs = candidates.flatMap(lambda x: find_similarity(x, index)).collect()"
   ]
  },
  {
   "cell_type": "code",
   "execution_count": 35,
   "metadata": {},
   "outputs": [
    {
     "data": {
      "text/plain": [
       "[('H8mq-5oLkF9jlfyYi3vvOw', '4XGjbI2Ggi-kdgt9eZR83w', 0.6),\n",
       " ('6nMYROXu0VX4Ytpdsfi3XA', '-i3dOjumvOw-52aGXU1xDg', 0.5)]"
      ]
     },
     "execution_count": 35,
     "metadata": {},
     "output_type": "execute_result"
    }
   ],
   "source": [
    "similar_pairs[:2]"
   ]
  },
  {
   "cell_type": "code",
   "execution_count": 16,
   "metadata": {},
   "outputs": [
    {
     "data": {
      "text/plain": [
       "-272375401224217160"
      ]
     },
     "execution_count": 16,
     "metadata": {},
     "output_type": "execute_result"
    }
   ],
   "source": [
    "hash(frozenset([1,2,3]))"
   ]
  },
  {
   "cell_type": "code",
   "execution_count": 18,
   "metadata": {},
   "outputs": [
    {
     "data": {
      "text/plain": [
       "7752673356882005635"
      ]
     },
     "execution_count": 18,
     "metadata": {},
     "output_type": "execute_result"
    }
   ],
   "source": [
    "hash(frozenset([4,2,3]))"
   ]
  },
  {
   "cell_type": "code",
   "execution_count": 13,
   "metadata": {},
   "outputs": [
    {
     "data": {
      "text/plain": [
       "24732"
      ]
     },
     "execution_count": 13,
     "metadata": {},
     "output_type": "execute_result"
    }
   ],
   "source": [
    "# b*r = n\n",
    "# (1/b)^(1/r) = threshold\n"
   ]
  },
  {
   "cell_type": "code",
   "execution_count": null,
   "metadata": {},
   "outputs": [],
   "source": []
  },
  {
   "cell_type": "code",
   "execution_count": null,
   "metadata": {},
   "outputs": [],
   "source": []
  }
 ],
 "metadata": {
  "kernelspec": {
   "display_name": "Python 3",
   "language": "python",
   "name": "python3"
  },
  "language_info": {
   "codemirror_mode": {
    "name": "ipython",
    "version": 3
   },
   "file_extension": ".py",
   "mimetype": "text/x-python",
   "name": "python",
   "nbconvert_exporter": "python",
   "pygments_lexer": "ipython3",
   "version": "3.7.4"
  }
 },
 "nbformat": 4,
 "nbformat_minor": 4
}
