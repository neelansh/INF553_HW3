{
 "cells": [
  {
   "cell_type": "code",
   "execution_count": 1,
   "metadata": {},
   "outputs": [],
   "source": [
    "import os\n",
    "import sys\n",
    "from pyspark import SparkContext, SparkConf\n",
    "import json\n",
    "import itertools\n",
    "import math\n",
    "import numpy as np\n",
    "import time\n",
    "from itertools import combinations\n",
    "import xgboost as xgb\n",
    "import pandas as pd\n",
    "from sklearn.metrics import mean_squared_error"
   ]
  },
  {
   "cell_type": "code",
   "execution_count": 2,
   "metadata": {},
   "outputs": [
    {
     "data": {
      "text/html": [
       "\n",
       "        <div>\n",
       "            <p><b>SparkContext</b></p>\n",
       "\n",
       "            <p><a href=\"http://ckg03:4040\">Spark UI</a></p>\n",
       "\n",
       "            <dl>\n",
       "              <dt>Version</dt>\n",
       "                <dd><code>v2.4.4</code></dd>\n",
       "              <dt>Master</dt>\n",
       "                <dd><code>local[*]</code></dd>\n",
       "              <dt>AppName</dt>\n",
       "                <dd><code>assignment3</code></dd>\n",
       "            </dl>\n",
       "        </div>\n",
       "        "
      ],
      "text/plain": [
       "<SparkContext master=local[*] appName=assignment3>"
      ]
     },
     "execution_count": 2,
     "metadata": {},
     "output_type": "execute_result"
    }
   ],
   "source": [
    "appName = 'assignment3'\n",
    "master = 'local[*]'\n",
    "conf = SparkConf().setAppName(appName).setMaster(master)\n",
    "sc = SparkContext(conf=conf)\n",
    "sc.setLogLevel(\"INFO\")\n",
    "sc"
   ]
  },
  {
   "cell_type": "code",
   "execution_count": 41,
   "metadata": {},
   "outputs": [],
   "source": [
    "def read_test_data(test_path):\n",
    "    def read_test_line(line):\n",
    "        line = line.split(',')\n",
    "        return (line[0].strip(), line[1].strip(), line[2].strip())\n",
    "    \n",
    "    rdd = sc.textFile(test_path)\n",
    "    header = rdd.first()\n",
    "    rdd = rdd.filter(lambda x: x != header).map(read_test_line)    \n",
    "    return rdd\n",
    "\n",
    "\n",
    "def read_train_data(train_path):\n",
    "    def read_csv_line(line):\n",
    "        line = line.split(',')\n",
    "        return (line[0].strip(), line[1].strip(), line[2].strip())\n",
    "    \n",
    "    rdd = sc.textFile(train_path)\n",
    "    header = rdd.first()\n",
    "    rdd = rdd.filter(lambda x: x != header).map(read_csv_line)\n",
    "    return rdd\n",
    "\n",
    "\n",
    "\n",
    "business_data = sc.textFile('./data/business.json').map(json.loads).map(lambda x: (x['business_id'], x['review_count'], x['stars'])).collect()\n",
    "user_data = sc.textFile('./data/user-002.json').map(json.loads).map(lambda x: (x['user_id'], x['review_count'], x['average_stars'])).collect()\n",
    "checkin_data = sc.textFile('./data/checkin.json').map(json.loads).map(lambda x: (x['business_id'], sum(x['time'].values()))).collect()\n",
    "test_data = read_test_data('./data/yelp_val.csv').collect()\n",
    "train_data = read_train_data('./data/yelp_train.csv').collect()\n",
    "business_data = pd.DataFrame(business_data, columns=['business_id', 'review_count', 'stars'])\n",
    "user_data = pd.DataFrame(user_data, columns=['user_id', 'review_count', 'average_stars'])\n",
    "checkin_data = pd.DataFrame(checkin_data, columns=['business_id', 'total_checkins'])\n",
    "train_data = pd.DataFrame(train_data, columns=['user_id', 'business_id', 'rating'])\n",
    "test_data = pd.DataFrame(test_data, columns=['user_id', 'business_id', 'rating'])"
   ]
  },
  {
   "cell_type": "code",
   "execution_count": 42,
   "metadata": {},
   "outputs": [],
   "source": [
    "business_data = pd.merge(business_data, checkin_data, on='business_id', how='left')\n",
    "train_data = pd.merge(train_data, user_data, on='user_id', how='left')\n",
    "train_data = pd.merge(train_data, business_data, on='business_id', how='left')\n",
    "test_data = pd.merge(test_data, user_data, on='user_id', how='left')\n",
    "test_data = pd.merge(test_data, business_data, on='business_id', how='left')\n",
    "\n",
    "# user_map = {}\n",
    "# business_map = {}\n",
    "# for i, x in enumerate(train_data.user_id.values):\n",
    "#     user_map[x] = i\n",
    "\n",
    "# for i, x in enumerate(train_data.business_id.values):\n",
    "#     business_map[x] = i\n",
    "    \n",
    "# train_data.user_id = train_data.user_id.apply(lambda x: user_map[x])\n",
    "# train_data.business_id = train_data.business_id.apply(lambda x: business_map[x])\n",
    "# test_data.user_id = test_data.user_id.apply(lambda x: user_map[x] if x in user_map else None)\n",
    "# test_data.business_id = test_data.business_id.apply(lambda x: business_map[x] if x in business_map else None)\n",
    "\n",
    "# test_data = test_data.dropna()\n",
    "# train_data.rating = train_data.rating.apply(lambda x: float(x))\n",
    "# test_data.business_id = test_data.business_id.astype(int)\n",
    "# test_data.rating = train_data.rating.apply(lambda x: float(x))"
   ]
  },
  {
   "cell_type": "code",
   "execution_count": null,
   "metadata": {},
   "outputs": [],
   "source": []
  },
  {
   "cell_type": "code",
   "execution_count": 43,
   "metadata": {},
   "outputs": [
    {
     "data": {
      "text/plain": [
       "user_id            object\n",
       "business_id        object\n",
       "rating             object\n",
       "review_count_x      int64\n",
       "average_stars     float64\n",
       "review_count_y      int64\n",
       "stars             float64\n",
       "total_checkins    float64\n",
       "dtype: object"
      ]
     },
     "execution_count": 43,
     "metadata": {},
     "output_type": "execute_result"
    }
   ],
   "source": [
    "test_data.dtypes"
   ]
  },
  {
   "cell_type": "code",
   "execution_count": 44,
   "metadata": {},
   "outputs": [],
   "source": [
    "train_x = train_data.loc[:, ('review_count_x', 'average_stars', 'review_count_y', 'stars', 'total_checkins')].values\n",
    "train_y = train_data.loc[:, ('rating')].values\n",
    "test_x = test_data.loc[:, ('review_count_x', 'average_stars', 'review_count_y', 'stars', 'total_checkins')].values\n",
    "test_y = test_data.loc[:, ('rating')].values"
   ]
  },
  {
   "cell_type": "code",
   "execution_count": 45,
   "metadata": {},
   "outputs": [],
   "source": [
    "model = xgb.XGBRegressor(objective ='reg:squarederror')"
   ]
  },
  {
   "cell_type": "code",
   "execution_count": 46,
   "metadata": {},
   "outputs": [
    {
     "data": {
      "text/plain": [
       "XGBRegressor(base_score=0.5, booster=None, colsample_bylevel=1,\n",
       "             colsample_bynode=1, colsample_bytree=1, gamma=0, gpu_id=-1,\n",
       "             importance_type='gain', interaction_constraints=None,\n",
       "             learning_rate=0.300000012, max_delta_step=0, max_depth=6,\n",
       "             min_child_weight=1, missing=nan, monotone_constraints=None,\n",
       "             n_estimators=100, n_jobs=0, num_parallel_tree=1,\n",
       "             objective='reg:squarederror', random_state=0, reg_alpha=0,\n",
       "             reg_lambda=1, scale_pos_weight=1, subsample=1, tree_method=None,\n",
       "             validate_parameters=False, verbosity=None)"
      ]
     },
     "execution_count": 46,
     "metadata": {},
     "output_type": "execute_result"
    }
   ],
   "source": [
    "model.fit(train_x, train_y)"
   ]
  },
  {
   "cell_type": "code",
   "execution_count": 47,
   "metadata": {},
   "outputs": [],
   "source": [
    "pred = model.predict(test_x)"
   ]
  },
  {
   "cell_type": "code",
   "execution_count": 48,
   "metadata": {},
   "outputs": [
    {
     "data": {
      "text/plain": [
       "0.9674248316924059"
      ]
     },
     "execution_count": 48,
     "metadata": {},
     "output_type": "execute_result"
    }
   ],
   "source": [
    "mean_squared_error(test_y, pred)"
   ]
  },
  {
   "cell_type": "code",
   "execution_count": 50,
   "metadata": {},
   "outputs": [],
   "source": [
    "output = pd.concat((test_data.loc[:, ('user_id', 'business_id')], pd.DataFrame(pred, columns=['pred'])), axis=1)"
   ]
  },
  {
   "cell_type": "code",
   "execution_count": 66,
   "metadata": {},
   "outputs": [],
   "source": [
    "output.pred = output.pred.apply(lambda x: '5.0' if x>5 else str(x))"
   ]
  },
  {
   "cell_type": "code",
   "execution_count": 69,
   "metadata": {},
   "outputs": [],
   "source": [
    "output = output.apply(lambda row: ','.join(row), axis=1).tolist()"
   ]
  },
  {
   "cell_type": "code",
   "execution_count": 70,
   "metadata": {},
   "outputs": [],
   "source": [
    "def save_output(output, path):\n",
    "    output_file = open(path, 'wt')\n",
    "    output_file.write('user_id, business_id, prediction\\n')\n",
    "    for line in output:\n",
    "        output_file.write(line)\n",
    "    output_file.close()\n",
    "    return\n",
    "\n",
    "\n",
    "save_output(output, 'output2_2.csv')"
   ]
  },
  {
   "cell_type": "code",
   "execution_count": null,
   "metadata": {},
   "outputs": [],
   "source": []
  },
  {
   "cell_type": "code",
   "execution_count": null,
   "metadata": {},
   "outputs": [],
   "source": []
  },
  {
   "cell_type": "code",
   "execution_count": null,
   "metadata": {},
   "outputs": [],
   "source": []
  },
  {
   "cell_type": "code",
   "execution_count": null,
   "metadata": {},
   "outputs": [],
   "source": []
  },
  {
   "cell_type": "code",
   "execution_count": null,
   "metadata": {},
   "outputs": [],
   "source": [
    "def flatten(x):\n",
    "    if(not type(x) is tuple):\n",
    "        return (x)\n",
    "    out = []\n",
    "    for i in x:\n",
    "        if(type(i) is tuple):\n",
    "            out += list(i)\n",
    "        else:\n",
    "            out.append(i)\n",
    "    return tuple(out)\n",
    "    \n",
    "business_rdd = business_rdd.join(checkin_rdd).map(lambda x: (x[0], flatten(x[1])))\n",
    "user_rdd = user_rdd.join(train_data.map(lambda x: x[]))\n",
    "    join(train_data).map(lambda x: (x[0], flatten(x[1]))).\\\n",
    "    map(lambda x: (x[1][-1], x[1]+(x[0],))).\\\n",
    "    join(user_rdd).map(lambda x: (x[0], flatten(x[1]))).take(3)"
   ]
  },
  {
   "cell_type": "code",
   "execution_count": null,
   "metadata": {},
   "outputs": [],
   "source": []
  },
  {
   "cell_type": "code",
   "execution_count": null,
   "metadata": {},
   "outputs": [],
   "source": []
  }
 ],
 "metadata": {
  "kernelspec": {
   "display_name": "Python 3",
   "language": "python",
   "name": "python3"
  },
  "language_info": {
   "codemirror_mode": {
    "name": "ipython",
    "version": 3
   },
   "file_extension": ".py",
   "mimetype": "text/x-python",
   "name": "python",
   "nbconvert_exporter": "python",
   "pygments_lexer": "ipython3",
   "version": "3.7.4"
  }
 },
 "nbformat": 4,
 "nbformat_minor": 4
}
